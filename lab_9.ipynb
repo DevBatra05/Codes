{
  "nbformat": 4,
  "nbformat_minor": 0,
  "metadata": {
    "colab": {
      "provenance": [],
      "authorship_tag": "ABX9TyMSpEynyzEcxt4mFcF3R3I/",
      "include_colab_link": true
    },
    "kernelspec": {
      "name": "python3",
      "display_name": "Python 3"
    },
    "language_info": {
      "name": "python"
    }
  },
  "cells": [
    {
      "cell_type": "markdown",
      "metadata": {
        "id": "view-in-github",
        "colab_type": "text"
      },
      "source": [
        "<a href=\"https://colab.research.google.com/github/DevBatra05/Codes/blob/main/lab_9.ipynb\" target=\"_parent\"><img src=\"https://colab.research.google.com/assets/colab-badge.svg\" alt=\"Open In Colab\"/></a>"
      ]
    },
    {
      "cell_type": "code",
      "source": [
        "#wap to extract even and odd no. from a list\n",
        "list_1=[2,43,543,223,222,554,0]\n",
        "odd=list(filter(lambda n:n%2!=0,list_1))\n",
        "print(odd)\n"
      ],
      "metadata": {
        "colab": {
          "base_uri": "https://localhost:8080/"
        },
        "id": "hHEJWIsltRxL",
        "outputId": "e528e806-5f13-4234-e723-6d037520aa2b"
      },
      "execution_count": 15,
      "outputs": [
        {
          "output_type": "stream",
          "name": "stdout",
          "text": [
            "[43, 543, 223]\n"
          ]
        }
      ]
    },
    {
      "cell_type": "code",
      "source": [
        "from functools import reduce\n",
        "list_1=[2,3,5,8,10,12,14]\n",
        "evens=list(filter(lambda n:n%2==0 ,list_1))   #filter function\n",
        "print(evens)\n",
        "operation_1=list(map(lambda n:n*2,evens))    #map function\n",
        "print(operation_1)\n",
        "output_2 = reduce(lambda a,b:a+b,operation_1)     #reduce function\n",
        "print(output_2)"
      ],
      "metadata": {
        "colab": {
          "base_uri": "https://localhost:8080/"
        },
        "id": "bYF822-Jt5ER",
        "outputId": "64be4896-a01f-4c3b-fda4-47059a6e80c4"
      },
      "execution_count": 7,
      "outputs": [
        {
          "output_type": "stream",
          "name": "stdout",
          "text": [
            "[2, 8, 10, 12, 14]\n",
            "[4, 16, 20, 24, 28]\n",
            "92\n"
          ]
        }
      ]
    },
    {
      "cell_type": "code",
      "source": [
        "list_1=[2,3,32,12,33,21]\n",
        "def count(list_1):\n",
        "  ev=0\n",
        "  od=0\n",
        "  for i in list_1:\n",
        "    if i%2==0:\n",
        "      ev=ev+1\n",
        "  else:\n",
        "    od=od+1\n",
        "  return od,ev\n",
        "even,odd=count(list_1)\n",
        "print(even,odd)\n",
        "\n"
      ],
      "metadata": {
        "id": "IOs9rpaPwQRP",
        "outputId": "c09908f1-e86c-4e9c-8324-1b2841a5284d",
        "colab": {
          "base_uri": "https://localhost:8080/"
        }
      },
      "execution_count": 27,
      "outputs": [
        {
          "output_type": "stream",
          "name": "stdout",
          "text": [
            "1 3\n"
          ]
        }
      ]
    }
  ]
}