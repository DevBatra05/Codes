{
  "nbformat": 4,
  "nbformat_minor": 0,
  "metadata": {
    "colab": {
      "provenance": [],
      "authorship_tag": "ABX9TyOK1fKwDq79qczlZuA1nYVL",
      "include_colab_link": true
    },
    "kernelspec": {
      "name": "python3",
      "display_name": "Python 3"
    },
    "language_info": {
      "name": "python"
    }
  },
  "cells": [
    {
      "cell_type": "markdown",
      "metadata": {
        "id": "view-in-github",
        "colab_type": "text"
      },
      "source": [
        "<a href=\"https://colab.research.google.com/github/DevBatra05/Codes/blob/main/python_1.ipynb\" target=\"_parent\"><img src=\"https://colab.research.google.com/assets/colab-badge.svg\" alt=\"Open In Colab\"/></a>"
      ]
    },
    {
      "cell_type": "code",
      "execution_count": 8,
      "metadata": {
        "colab": {
          "base_uri": "https://localhost:8080/"
        },
        "id": "7daOtFoQGdxw",
        "outputId": "e5aa6b02-b10e-4b67-c6fd-e38e28821e32"
      },
      "outputs": [
        {
          "output_type": "stream",
          "name": "stdout",
          "text": [
            "Dev Batra\n",
            "o----\n",
            " ||||\n",
            "**********\n",
            "*********\n",
            "********\n",
            "*******\n",
            "******\n",
            "*****\n",
            "****\n",
            "***\n",
            "**\n",
            "*\n",
            "\n",
            "***\n"
          ]
        }
      ],
      "source": [
        "print(\"Dev Batra\")\n",
        "print('o----')\n",
        "print(' ||||')\n",
        "print('*' * 10)\n",
        "print('*' * 9)\n",
        "print('*' * 8)\n",
        "print('*' * 7)\n",
        "print('*' * 6)\n",
        "print('*' * 5)\n",
        "print('*' * 4)\n",
        "print('*' * 3)\n",
        "print('*' * 2)\n",
        "print('*' * 1)\n",
        "print('*' * 0)\n",
        "print('*' * 3)"
      ]
    },
    {
      "cell_type": "code",
      "source": [],
      "metadata": {
        "id": "Z1er_GkMH2Bn"
      },
      "execution_count": null,
      "outputs": []
    }
  ]
}