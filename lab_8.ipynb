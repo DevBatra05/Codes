{
  "nbformat": 4,
  "nbformat_minor": 0,
  "metadata": {
    "colab": {
      "provenance": [],
      "authorship_tag": "ABX9TyO9ShhgK0ia8RwExg7xA+K/",
      "include_colab_link": true
    },
    "kernelspec": {
      "name": "python3",
      "display_name": "Python 3"
    },
    "language_info": {
      "name": "python"
    }
  },
  "cells": [
    {
      "cell_type": "markdown",
      "metadata": {
        "id": "view-in-github",
        "colab_type": "text"
      },
      "source": [
        "<a href=\"https://colab.research.google.com/github/DevBatra05/Codes/blob/main/lab_8.ipynb\" target=\"_parent\"><img src=\"https://colab.research.google.com/assets/colab-badge.svg\" alt=\"Open In Colab\"/></a>"
      ]
    },
    {
      "cell_type": "code",
      "execution_count": 5,
      "metadata": {
        "colab": {
          "base_uri": "https://localhost:8080/",
          "height": 145
        },
        "id": "s1L3uoem9enp",
        "outputId": "32ee96ce-d618-408d-ea82-94466bdf047b"
      },
      "outputs": [
        {
          "output_type": "error",
          "ename": "IndentationError",
          "evalue": "expected an indented block after function definition on line 1 (<ipython-input-5-3d60a79d909f>, line 2)",
          "traceback": [
            "\u001b[0;36m  File \u001b[0;32m\"<ipython-input-5-3d60a79d909f>\"\u001b[0;36m, line \u001b[0;32m2\u001b[0m\n\u001b[0;31m    if(n==0 or n==1):\u001b[0m\n\u001b[0m    ^\u001b[0m\n\u001b[0;31mIndentationError\u001b[0m\u001b[0;31m:\u001b[0m expected an indented block after function definition on line 1\n"
          ]
        }
      ],
      "source": [
        "def fact(n):\n",
        "if(n==0 or n==1):\n",
        "return 1\n",
        "else:\n",
        "  for i in Range(2,n+1)\n",
        "  c=c*i\n",
        "  return c\n"
      ]
    },
    {
      "cell_type": "code",
      "source": [
        "\"\"\"\n",
        "fibonacci series\n",
        "0 1 1 2 3 5 8 13 21\n",
        "\"\"\"\n",
        "def  fib(n):\n",
        "  a=0\n",
        "  b=1\n",
        "  print\n",
        "for i in Range(1,n+1):\n",
        "  c=a+b\n",
        "  a=b\n",
        "  b=c\n",
        "  print(c)"
      ],
      "metadata": {
        "id": "tak98SUO_3ii"
      },
      "execution_count": null,
      "outputs": []
    },
    {
      "cell_type": "code",
      "source": [
        "def prime(n):\n",
        "  if(n==2):\n",
        "    print(\"it is a even and prime number\")\n",
        "  else:\n",
        "    i=n/2"
      ],
      "metadata": {
        "id": "iZD_esHeCr2P"
      },
      "execution_count": null,
      "outputs": []
    },
    {
      "cell_type": "code",
      "source": [
        "def prime(n):\n",
        "  i=2\n",
        "  a=0\n",
        "  while(i<n/2):\n",
        "   if(n%i==0):\n",
        "    a=1\n",
        "    a=a+1\n",
        "   if(a==0):\n",
        "    print(\"prime number\")\n",
        "   else:\n",
        "    print(\"not a prime number\")\n",
        "prime(11)"
      ],
      "metadata": {
        "id": "pgmhDgElP_xZ"
      },
      "execution_count": null,
      "outputs": []
    },
    {
      "cell_type": "code",
      "source": [
        "#wap to find a sum of a list using recurssion\n",
        "def sum(n):\n",
        "   n=[1,3,4,5,9]\n",
        "\n",
        ""
      ],
      "metadata": {
        "id": "yu8eiWqHQLym"
      },
      "execution_count": 19,
      "outputs": []
    },
    {
      "cell_type": "code",
      "source": [
        "def func(numbers):\n",
        "    if not numbers:\n",
        "        return 0\n",
        "    else:\n",
        "       return numbers[0] + func(numbers[1:])\n",
        "elements = [1, 2, 3, 4, 5]\n",
        "total_sum = func(elements)\n",
        "print(f\"The sum of elements in the list is: {total_sum}\")"
      ],
      "metadata": {
        "id": "R-m0g0PKUkl-",
        "outputId": "db685cd1-cbc1-4aff-b3a0-b15dedadd794",
        "colab": {
          "base_uri": "https://localhost:8080/"
        }
      },
      "execution_count": 20,
      "outputs": [
        {
          "output_type": "stream",
          "name": "stdout",
          "text": [
            "The sum of elements in the list is: 15\n"
          ]
        }
      ]
    }
  ]
}