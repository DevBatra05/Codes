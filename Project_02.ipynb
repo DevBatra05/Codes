{
  "nbformat": 4,
  "nbformat_minor": 0,
  "metadata": {
    "colab": {
      "provenance": [],
      "mount_file_id": "1tgFT9WSkHWu3dFtVPz10w4O-7RWXwYxJ",
      "authorship_tag": "ABX9TyPprdiVxtHoh/n13EbAqKDq",
      "include_colab_link": true
    },
    "kernelspec": {
      "name": "python3",
      "display_name": "Python 3"
    },
    "language_info": {
      "name": "python"
    }
  },
  "cells": [
    {
      "cell_type": "markdown",
      "metadata": {
        "id": "view-in-github",
        "colab_type": "text"
      },
      "source": [
        "<a href=\"https://colab.research.google.com/github/DevBatra05/Codes/blob/main/Project_02.ipynb\" target=\"_parent\"><img src=\"https://colab.research.google.com/assets/colab-badge.svg\" alt=\"Open In Colab\"/></a>"
      ]
    },
    {
      "cell_type": "code",
      "execution_count": null,
      "metadata": {
        "colab": {
          "base_uri": "https://localhost:8080/"
        },
        "id": "6bFYMl4FoJNy",
        "outputId": "204aa329-0a9e-43a0-db8a-a0f62529bb62"
      },
      "outputs": [
        {
          "name": "stdout",
          "output_type": "stream",
          "text": [
            "Welcome to CollegeWallah!\n",
            "\n",
            "Do you have an account? (yes/no): no\n"
          ]
        }
      ],
      "source": [
        "# Col_details Store the detail of College\n",
        "col_details = {\n",
        "    'Uttarakhand': {\n",
        "       'UPES': {'Location': 'Dehradun', 'NIRF Ranking': '54th For the School Of Engineering'},\n",
        "        'Graphic Era': {'Location': 'Dehradun', 'Ranking': '62th For the school of Engineering'},\n",
        "        'DIT': {'Location': 'Dehradun', 'Ranking': '179th for the school of Engineering'},\n",
        "    },\n",
        "\n",
        "    'Punjab':{\n",
        "        'Thapar Institute of Engineering & Technology': {'Location': 'Patiala', 'NIRF Ranking': '40th in the overall category'},\n",
        "        'CGC Landran': {'Location': 'Chandigarh', 'Ranking': 'Top 15 Engineering College'},\n",
        "        'Chitkara University': {'Location': 'Chandigarh', 'Ranking': 'Top 25 Engineering College' , 'Campus Area': '70-acre'},\n",
        "    },\n",
        "    'Uttar Pradesh': {\n",
        "        'Jaypee Institute Of Information Technology': {'Location': 'Noida', 'Ranking': 'Top 20 Engineering College', 'Campus Area': '15.5-acre'},\n",
        "        'G.L Bajaj': {'Location': 'Greater Noida', 'Fees': '4.21Lakh'},\n",
        "        'Bennett University': {'Location': 'Greater Noida', 'Campus Area': '68-acre', 'Fees': '15.35Lakh - 16.15Lakh'},\n",
        "    },\n",
        "    'Tamil Nadu': {\n",
        "        'Sastra University': {'Location': 'Thanjavur','Fees': '75000 per annum'},\n",
        "        'Satyabhama University': {'Location': 'Chennai','Fees': '2.45Lakh per annum'},\n",
        "        'Anna University': {'Location': 'Chennai', 'Fees': '5Lakh per annum'},\n",
        "    },\n",
        "    'Rajasthan' : {\n",
        "        'BITS-Pilani': {'Location': 'Pilani', 'NIRF Ranking': '25th for the engineering Category', 'Campus Size': '328-acres'},\n",
        "        'Manipal University': {'Location': 'Jaipur', 'Campus Area': '122-acres'},\n",
        "        'Amity University': {'Location': 'Jaipur', 'Campus Area': '1200-acres'},\n",
        "    }\n",
        "}\n",
        "\n",
        "usernames=[]\n",
        "\n",
        "print(\"Welcome to CollegeWallah!\")\n",
        "while True:\n",
        "\n",
        "    while True:\n",
        "        choice = input(\"\\nDo you have an account? (yes/no): \").lower()\n",
        "        if choice == 'yes':\n",
        "            username = input(\"Enter your username: \")\n",
        "            if username in usernames:\n",
        "                print(\"Login successful!\")\n",
        "                break\n",
        "            else:\n",
        "                print(\"Username not found. Please try again.\")\n",
        "        elif choice == 'no':\n",
        "            username = input(\"Enter your desired username: \")\n",
        "            usernames.append(username)\n",
        "            print(\"Account created successfully!\")\n",
        "            with open(\"username.txt\", \"a\") as file:\n",
        "                file.write(username + \"\\n\")\n",
        "\n",
        "            break\n",
        "        else:\n",
        "            print(\"Invalid choice. Please enter 'yes' or 'no'.\")\n",
        "\n",
        "\n",
        "    print(\"\\nWelcome\"+ username)\n",
        "    print(\"Available States:\")\n",
        "    for index, state in enumerate(col_details.keys(), start=1):\n",
        "        print(f\"{index}. {state}\")\n",
        "\n",
        "    while True:\n",
        "        choice = input(\"Enter the number of your Preferable state: \")\n",
        "        if choice.isdigit() and 1 <= int(choice) <= len(col_details):\n",
        "            state = list(col_details.keys())[int(choice) - 1]\n",
        "            break\n",
        "        else:\n",
        "            print(\"Invalid choice! Please enter a valid number.\")\n",
        "\n",
        "\n",
        "    print(f\"\\nColleges in {state}:\")\n",
        "    colleges = list(col_details[state].keys())\n",
        "    for index, college in enumerate(colleges, start=1):\n",
        "        print(f\"{index}. {college}\")\n",
        "\n",
        "    while True:\n",
        "        choice = input(\"Enter the number of your preferable college: \")\n",
        "        if choice.isdigit() and 1 <= int(choice) <= len(colleges):\n",
        "            preferable_college = colleges[int(choice) - 1]\n",
        "            break\n",
        "        else:\n",
        "            print(\"Invalid choice! Please enter a valid number.\")\n",
        "\n",
        "\n",
        "    print(f\"\\nDetails of {preferable_college}:\")\n",
        "    info = col_details[state][preferable_college]\n",
        "    for detail, value in info.items():\n",
        "        print(f\"\\n{detail}: {value}\")\n",
        "\n",
        "\n",
        "    choice = input(\"\\nDo you want to continue? (yes/no): \").lower()\n",
        "    if choice != 'yes':\n",
        "        print(\"Thank you for using CollegeWallah! Have a great day!\")\n",
        "        break"
      ]
    }
  ]
}