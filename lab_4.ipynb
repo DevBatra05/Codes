{
  "nbformat": 4,
  "nbformat_minor": 0,
  "metadata": {
    "colab": {
      "provenance": [],
      "authorship_tag": "ABX9TyPKnWiDzreN3Pp3Hsx7rJjy",
      "include_colab_link": true
    },
    "kernelspec": {
      "name": "python3",
      "display_name": "Python 3"
    },
    "language_info": {
      "name": "python"
    }
  },
  "cells": [
    {
      "cell_type": "markdown",
      "metadata": {
        "id": "view-in-github",
        "colab_type": "text"
      },
      "source": [
        "<a href=\"https://colab.research.google.com/github/DevBatra05/Codes/blob/main/lab_4.ipynb\" target=\"_parent\"><img src=\"https://colab.research.google.com/assets/colab-badge.svg\" alt=\"Open In Colab\"/></a>"
      ]
    },
    {
      "cell_type": "code",
      "execution_count": 5,
      "metadata": {
        "colab": {
          "base_uri": "https://localhost:8080/"
        },
        "id": "L972_pabgZgu",
        "outputId": "820d0c0d-8293-444b-ac51-88673b4ab440"
      },
      "outputs": [
        {
          "output_type": "stream",
          "name": "stdout",
          "text": [
            "hello\n",
            "dev\n"
          ]
        }
      ],
      "source": [
        "print(\"hello\\ndev\")"
      ]
    },
    {
      "cell_type": "code",
      "source": [
        "print(\"hello\\tdev\")"
      ],
      "metadata": {
        "colab": {
          "base_uri": "https://localhost:8080/"
        },
        "id": "j95KQiAshzF1",
        "outputId": "6c186d94-74bd-4a43-c830-0d3b0859d95e"
      },
      "execution_count": 6,
      "outputs": [
        {
          "output_type": "stream",
          "name": "stdout",
          "text": [
            "hello\tdev\n"
          ]
        }
      ]
    },
    {
      "cell_type": "code",
      "source": [
        "print(\"hello\\adev\")"
      ],
      "metadata": {
        "colab": {
          "base_uri": "https://localhost:8080/"
        },
        "id": "8W6-PVb9h4bd",
        "outputId": "2691e66d-a948-47c6-afe0-d9dc085ed992"
      },
      "execution_count": 8,
      "outputs": [
        {
          "output_type": "stream",
          "name": "stdout",
          "text": [
            "hello\u0007dev\n"
          ]
        }
      ]
    },
    {
      "cell_type": "code",
      "source": [
        "print(\"dev\\rbatra\")"
      ],
      "metadata": {
        "colab": {
          "base_uri": "https://localhost:8080/"
        },
        "id": "2e62skHcj3Gm",
        "outputId": "ca829826-2847-43e6-88ce-a58cca78fda5"
      },
      "execution_count": 13,
      "outputs": [
        {
          "output_type": "stream",
          "name": "stdout",
          "text": [
            "dev\rbatra\n"
          ]
        }
      ]
    },
    {
      "cell_type": "code",
      "source": [
        "print(\"hello\\'world\")"
      ],
      "metadata": {
        "colab": {
          "base_uri": "https://localhost:8080/"
        },
        "id": "nsNTye7Ij698",
        "outputId": "b439af1c-5b18-4ce5-b10d-b9bb9c896dbf"
      },
      "execution_count": 15,
      "outputs": [
        {
          "output_type": "stream",
          "name": "stdout",
          "text": [
            "hello'world\n"
          ]
        }
      ]
    },
    {
      "cell_type": "code",
      "source": [
        "b=10\n",
        "a=-(b)\n",
        "print(a+b)"
      ],
      "metadata": {
        "colab": {
          "base_uri": "https://localhost:8080/"
        },
        "id": "sADHium1kRdh",
        "outputId": "11362050-4d67-45f3-cded-4ffae6be241b"
      },
      "execution_count": 17,
      "outputs": [
        {
          "output_type": "stream",
          "name": "stdout",
          "text": [
            "0\n"
          ]
        }
      ]
    },
    {
      "cell_type": "code",
      "source": [
        "list=['a' , 'bc', 78 , 1.23]\n",
        "list2= ['d', 78]\n",
        "print(list)\n",
        "print(list[0])      #print first element of the list\n",
        "print(list[1:3])     #prints elements starting from 2nd till 3rd\n",
        "print(list[2:])      #prints elements starting from 3rd element\n",
        "print(list *3)       #repeats the list\n",
        "print(list + list2)   #concatenates two lists\n",
        "print(list[-4])        #start from back side\n",
        "list[2] = 55           #assign value at that position\n",
        "print(list)\n",
        "list.insert(2,68)       # insert value at that position\n",
        "print(list)\n",
        "list.remove(68)\n",
        "print(list)\n",
        "list.append('devbatra')\n",
        "print(list)\n",
        "print('devbatra' in list)\n",
        "print(len(list))\n",
        "list.clear()\n",
        "print(list)\n"
      ],
      "metadata": {
        "colab": {
          "base_uri": "https://localhost:8080/"
        },
        "id": "KdNjPU5llPTC",
        "outputId": "a5b4686f-9280-40ef-d25a-3686658a57d3"
      },
      "execution_count": 35,
      "outputs": [
        {
          "output_type": "stream",
          "name": "stdout",
          "text": [
            "['a', 'bc', 78, 1.23]\n",
            "a\n",
            "['bc', 78]\n",
            "[78, 1.23]\n",
            "['a', 'bc', 78, 1.23, 'a', 'bc', 78, 1.23, 'a', 'bc', 78, 1.23]\n",
            "['a', 'bc', 78, 1.23, 'd', 78]\n",
            "a\n",
            "['a', 'bc', 55, 1.23]\n",
            "['a', 'bc', 68, 55, 1.23]\n",
            "['a', 'bc', 55, 1.23]\n",
            "['a', 'bc', 55, 1.23, 'devbatra']\n",
            "True\n",
            "5\n",
            "[]\n"
          ]
        }
      ]
    },
    {
      "cell_type": "code",
      "source": [
        "a=(1,2,3)\n",
        "print(type(a))"
      ],
      "metadata": {
        "colab": {
          "base_uri": "https://localhost:8080/"
        },
        "id": "GFbvpbCHoaqy",
        "outputId": "8d86f90a-a503-4945-ce1e-d4cc88896094"
      },
      "execution_count": 38,
      "outputs": [
        {
          "output_type": "stream",
          "name": "stdout",
          "text": [
            "<class 'tuple'>\n"
          ]
        }
      ]
    },
    {
      "cell_type": "code",
      "source": [
        "print('''my name is dev\n",
        "i live in sarsawa\n",
        "jai shree ram\n",
        "i study in UPES''')"
      ],
      "metadata": {
        "colab": {
          "base_uri": "https://localhost:8080/"
        },
        "id": "u-bP4_hgtc8c",
        "outputId": "23288909-22e9-4f15-a63f-f16e66eb8dc3"
      },
      "execution_count": 42,
      "outputs": [
        {
          "output_type": "stream",
          "name": "stdout",
          "text": [
            "my name is dev\n",
            "i live in sarsawa\n",
            "jai shree ram\n",
            "i study in UPES\n"
          ]
        }
      ]
    },
    {
      "cell_type": "code",
      "source": [
        "print('''Plant more trees and take care of the existing ones\n",
        "Reduce the usage of vehicles\n",
        "Reuse and recycle items\n",
        "Proper disposal of waste\n",
        "Say no to polythene\n",
        "Maintain a proper sanitation and cleanliness in our surroundings\n",
        "Consume food in biodegradable containers''')"
      ],
      "metadata": {
        "colab": {
          "base_uri": "https://localhost:8080/"
        },
        "id": "NlcaG9Hzubkc",
        "outputId": "a5acb0b5-c7da-4182-ba58-6879ccb032b5"
      },
      "execution_count": 43,
      "outputs": [
        {
          "output_type": "stream",
          "name": "stdout",
          "text": [
            "Plant more trees and take care of the existing ones\n",
            "Reduce the usage of vehicles\n",
            "Reuse and recycle items\n",
            "Proper disposal of waste\n",
            "Say no to polythene\n",
            "Maintain a proper sanitation and cleanliness in our surroundings\n",
            "Consume food in biodegradable containers\n"
          ]
        }
      ]
    }
  ]
}