{
  "nbformat": 4,
  "nbformat_minor": 0,
  "metadata": {
    "colab": {
      "provenance": [],
      "authorship_tag": "ABX9TyNzCHCjlJt6at7KFpr0D6eZ",
      "include_colab_link": true
    },
    "kernelspec": {
      "name": "python3",
      "display_name": "Python 3"
    },
    "language_info": {
      "name": "python"
    }
  },
  "cells": [
    {
      "cell_type": "markdown",
      "metadata": {
        "id": "view-in-github",
        "colab_type": "text"
      },
      "source": [
        "<a href=\"https://colab.research.google.com/github/DevBatra05/Codes/blob/main/lab_1.ipynb\" target=\"_parent\"><img src=\"https://colab.research.google.com/assets/colab-badge.svg\" alt=\"Open In Colab\"/></a>"
      ]
    },
    {
      "cell_type": "code",
      "source": [
        "birth_year = int(input(\"what is my age? \"))\n",
        "age= 2024 - birth_year\n",
        "print(age)"
      ],
      "metadata": {
        "colab": {
          "base_uri": "https://localhost:8080/"
        },
        "id": "CV4X4VrM3nha",
        "outputId": "d54a9eef-866e-44e0-d00a-f4fa48f400d9"
      },
      "execution_count": 27,
      "outputs": [
        {
          "output_type": "stream",
          "name": "stdout",
          "text": [
            "what is my age? 2004\n",
            "20\n"
          ]
        }
      ]
    },
    {
      "cell_type": "code",
      "source": [
        "a=12\n",
        "b=20.3\n",
        "c=a+b\n",
        "print(c)\n",
        "print(type(c))"
      ],
      "metadata": {
        "colab": {
          "base_uri": "https://localhost:8080/"
        },
        "id": "YR6kgzEF562f",
        "outputId": "0d348360-cce8-4914-aff0-68b6ca49daf9"
      },
      "execution_count": 29,
      "outputs": [
        {
          "output_type": "stream",
          "name": "stdout",
          "text": [
            "32.3\n",
            "<class 'float'>\n"
          ]
        }
      ]
    },
    {
      "cell_type": "code",
      "source": [
        ""
      ],
      "metadata": {
        "id": "MvMfjWUq6DqA"
      },
      "execution_count": null,
      "outputs": []
    },
    {
      "cell_type": "code",
      "source": [
        "name=input('what is your name?')\n",
        "SAP_ID=int(input('enter your SAP'))\n",
        "course=input('what is your course?')\n",
        "year= int(input('write your current year'))\n",
        "city= input('name the city u live')\n",
        "print(name)\n",
        "print(SAP_ID)\n",
        "print(course)\n",
        "print(year)\n",
        "print(city)\n"
      ],
      "metadata": {
        "colab": {
          "base_uri": "https://localhost:8080/"
        },
        "id": "jictGW4w6PzQ",
        "outputId": "07f46ff1-e5a5-4612-f696-07e5a6f6e3bb"
      },
      "execution_count": 32,
      "outputs": [
        {
          "output_type": "stream",
          "name": "stdout",
          "text": [
            "what is your name?dev mudit\n",
            "enter your SAP6282\n",
            "what is your course?btech\n",
            "write your current year2024\n",
            "name the city u livebharat\n",
            "dev mudit\n",
            "6282\n",
            "btech\n",
            "2024\n",
            "bharat\n"
          ]
        }
      ]
    },
    {
      "cell_type": "code",
      "source": [],
      "metadata": {
        "id": "S9x4XUuh7s9G"
      },
      "execution_count": null,
      "outputs": []
    }
  ]
}